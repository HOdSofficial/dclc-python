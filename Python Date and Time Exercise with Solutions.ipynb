{
 "cells": [
  {
   "cell_type": "markdown",
   "id": "1e772e59-fbad-4b83-87c7-74b3a1f455e4",
   "metadata": {},
   "source": [
    "Home » Python Exercises » Python Date and Time Exercise with Solutions\n",
    "Python Date and Time Exercise with Solutions"
   ]
  },
  {
   "cell_type": "code",
   "execution_count": 5,
   "id": "2b649a21-4cde-4120-a714-c99619ec988c",
   "metadata": {},
   "outputs": [
    {
     "name": "stdout",
     "output_type": "stream",
     "text": [
      "Current DateTime: 2024-11-26 11:01:53.526467\n",
      "Type: <class 'datetime.datetime'>\n"
     ]
    }
   ],
   "source": [
    "from datetime import datetime\n",
    "\n",
    "now = datetime.now()\n",
    "print('Current DateTime:', now)\n",
    "print('Type:', type(now))"
   ]
  },
  {
   "cell_type": "code",
   "execution_count": 7,
   "id": "0f601b62-7cd6-4504-b22d-a567b5ab6d90",
   "metadata": {},
   "outputs": [
    {
     "name": "stdout",
     "output_type": "stream",
     "text": [
      "Date: 2024-11-26\n",
      "<class 'datetime.date'>\n",
      "Time 11:03:19.191340\n",
      "<class 'datetime.time'>\n"
     ]
    }
   ],
   "source": [
    "# import only datetime class\n",
    "from datetime import datetime\n",
    "\n",
    "# current datetime\n",
    "now = datetime.now()\n",
    "\n",
    "current_date = now.date()\n",
    "print('Date:', current_date)\n",
    "print(type(current_date))\n",
    "\n",
    "current_time = now.time()\n",
    "print('Time', current_time)\n",
    "print(type(current_time))"
   ]
  },
  {
   "cell_type": "code",
   "execution_count": 8,
   "id": "d4d4b145-f0e4-4975-99d9-69b52fa74867",
   "metadata": {},
   "outputs": [
    {
     "name": "stdout",
     "output_type": "stream",
     "text": [
      "Year: 2024\n",
      "Month: 11\n",
      "Day = 26\n",
      "Hour: 11\n",
      "Minute: 3\n",
      "Second: 57\n",
      "Microsecond: 459453\n"
     ]
    }
   ],
   "source": [
    "from datetime import datetime\n",
    "\n",
    "# Get current date and time\n",
    "now = datetime.now()\n",
    "\n",
    "# extract attributes \n",
    "print(\"Year:\", now.year)\n",
    "print(\"Month:\", now.month)\n",
    "print(\"Day =\", now.day)\n",
    "\n",
    "print(\"Hour:\", now.hour)\n",
    "print(\"Minute:\", now.minute)\n",
    "print(\"Second:\", now.second)\n",
    "print(\"Microsecond:\", now.microsecond)"
   ]
  },
  {
   "cell_type": "code",
   "execution_count": 14,
   "id": "b68d64f4-d507-498e-a10d-3ae9bb6bff0e",
   "metadata": {},
   "outputs": [
    {
     "name": "stdout",
     "output_type": "stream",
     "text": [
      "Current Date: 2024-11-26\n"
     ]
    }
   ],
   "source": [
    "from datetime import date\n",
    "\n",
    "today = date.today()\n",
    "print('Current Date:', today)\n",
    "\n",
    "# Output 2021-07-16"
   ]
  },
  {
   "cell_type": "code",
   "execution_count": 15,
   "id": "0ed9ab99-a995-4bbf-a8e5-cebdd6148237",
   "metadata": {},
   "outputs": [
    {
     "name": "stdout",
     "output_type": "stream",
     "text": [
      "Time: 1732615792.6573908\n"
     ]
    }
   ],
   "source": [
    "import time\n",
    "\n",
    "# get current time in seconds\n",
    "t = time.time()\n",
    "print('Time:', t)\n",
    "\n",
    "# Output 1626488018.0199707"
   ]
  },
  {
   "cell_type": "code",
   "execution_count": 16,
   "id": "e82e1273-11f1-44a1-bb25-17adc2a02497",
   "metadata": {},
   "outputs": [
    {
     "name": "stdout",
     "output_type": "stream",
     "text": [
      "Current Time: Tue Nov 26 11:10:26 2024\n"
     ]
    }
   ],
   "source": [
    "import time\n",
    "\n",
    "# get current time\n",
    "print('Current Time:', time.ctime(time.time()))\n",
    "\n",
    "# Output Sat Jul 17 07:07:09 2021"
   ]
  },
  {
   "cell_type": "code",
   "execution_count": 17,
   "id": "f6bffc50-12f4-4eac-b1b5-221c13682b50",
   "metadata": {},
   "outputs": [
    {
     "name": "stdout",
     "output_type": "stream",
     "text": [
      "Current Time: time.struct_time(tm_year=2024, tm_mon=11, tm_mday=26, tm_hour=11, tm_min=10, tm_sec=55, tm_wday=1, tm_yday=331, tm_isdst=0)\n",
      "Year: 2024\n",
      "Month: 26\n",
      "Day: 26\n",
      "Minutes: 10\n",
      "Hours: 11\n",
      "Seconds: 55\n"
     ]
    }
   ],
   "source": [
    "import time\n",
    "\n",
    "# get current local time\n",
    "t = time.localtime(time.time())\n",
    "\n",
    "print('Current Time:', t)\n",
    "print('Year:', t.tm_year)\n",
    "print('Month:', t.tm_mday)\n",
    "print('Day:', t.tm_mday)\n",
    "\n",
    "print('Minutes:', t.tm_min)\n",
    "print('Hours:', t.tm_hour)\n",
    "print('Seconds:', t.tm_sec)"
   ]
  },
  {
   "cell_type": "code",
   "execution_count": 18,
   "id": "117cf97a-2797-49c9-a114-4e294ab6a9c5",
   "metadata": {},
   "outputs": [
    {
     "name": "stdout",
     "output_type": "stream",
     "text": [
      "Current DateTime: 2024-11-26 11:11:38.097368\n",
      "Current Time: 11:11:38.097368\n"
     ]
    }
   ],
   "source": [
    "from datetime import datetime\n",
    "\n",
    "now = datetime.now()\n",
    "print('Current DateTime:', now)\n",
    "\n",
    "print('Current Time:', now.time())"
   ]
  },
  {
   "cell_type": "code",
   "execution_count": 19,
   "id": "abc196d8-a311-4e19-87ad-df69d2014265",
   "metadata": {},
   "outputs": [
    {
     "name": "stdout",
     "output_type": "stream",
     "text": [
      "Current time in milliseconds: 1732615921583\n"
     ]
    }
   ],
   "source": [
    "import time\n",
    "\n",
    "t = time.time()\n",
    "ml = int(t * 1000)\n",
    "print('Current time in milliseconds:', ml)\n",
    "\n",
    "# Output 1626498089547"
   ]
  },
  {
   "cell_type": "code",
   "execution_count": 20,
   "id": "3c8093ae-6f36-46b3-83e2-f36e00b537a1",
   "metadata": {},
   "outputs": [
    {
     "name": "stdout",
     "output_type": "stream",
     "text": [
      "Current UTC Time: 2024-11-26 10:12:30.219539+00:00\n"
     ]
    }
   ],
   "source": [
    "from datetime import datetime, timezone\n",
    "\n",
    "now = datetime.now(timezone.utc)\n",
    "print('Current UTC Time:', now)"
   ]
  },
  {
   "cell_type": "code",
   "execution_count": 21,
   "id": "0273a348-77f4-4157-9dc5-09a4a7e43939",
   "metadata": {},
   "outputs": [
    {
     "name": "stdout",
     "output_type": "stream",
     "text": [
      "US Central Current DateTime: 2024:11:26 04:13:15 CST -0600\n",
      "TimeZone Name: CST\n",
      "UTC offset: -1 day, 18:00:00\n"
     ]
    }
   ],
   "source": [
    "from datetime import datetime\n",
    "import pytz\n",
    "\n",
    "dt_us_central = datetime.now(pytz.timezone('US/Central'))\n",
    "print(\"US Central Current DateTime:\", dt_us_central.strftime(\"%Y:%m:%d %H:%M:%S %Z %z\"))\n",
    "\n",
    "# extract components\n",
    "print('TimeZone Name:', dt_us_central.tzname())\n",
    "print('UTC offset:', dt_us_central.utcoffset())"
   ]
  },
  {
   "cell_type": "code",
   "execution_count": 22,
   "id": "67874ed3-7e86-4a9c-a58e-8d716175b6b7",
   "metadata": {},
   "outputs": [
    {
     "name": "stdout",
     "output_type": "stream",
     "text": [
      "GMT Time: time.struct_time(tm_year=2024, tm_mon=11, tm_mday=26, tm_hour=10, tm_min=13, tm_sec=38, tm_wday=1, tm_yday=331, tm_isdst=0)\n",
      "10 : 13 : 38\n"
     ]
    }
   ],
   "source": [
    "import time\n",
    "\n",
    "# current GMT Time\n",
    "gmt = time.gmtime(time.time())\n",
    "\n",
    "print('GMT Time:', gmt)\n",
    "# Hours:minutes:Seconds\n",
    "print(gmt.tm_hour, ':', gmt.tm_min, ':', gmt.tm_sec)\n"
   ]
  },
  {
   "cell_type": "code",
   "execution_count": 23,
   "id": "b392218e-ea57-4a7b-9a78-36c4dd4c7f13",
   "metadata": {},
   "outputs": [
    {
     "name": "stdout",
     "output_type": "stream",
     "text": [
      "Current DateTime in ISO: 2024-11-26T11:13:55.439124\n"
     ]
    }
   ],
   "source": [
    "from datetime import datetime\n",
    "\n",
    "dt_iso = datetime.now().isoformat()\n",
    "print('Current DateTime in ISO:', dt_iso)"
   ]
  },
  {
   "cell_type": "code",
   "execution_count": null,
   "id": "8191fcb2-6f8c-44e1-8140-431cdc2f4df8",
   "metadata": {},
   "outputs": [],
   "source": []
  }
 ],
 "metadata": {
  "kernelspec": {
   "display_name": "Python 3 (ipykernel)",
   "language": "python",
   "name": "python3"
  },
  "language_info": {
   "codemirror_mode": {
    "name": "ipython",
    "version": 3
   },
   "file_extension": ".py",
   "mimetype": "text/x-python",
   "name": "python",
   "nbconvert_exporter": "python",
   "pygments_lexer": "ipython3",
   "version": "3.11.9"
  }
 },
 "nbformat": 4,
 "nbformat_minor": 5
}
