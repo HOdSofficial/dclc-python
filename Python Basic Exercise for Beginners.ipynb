{
 "cells": [
  {
   "cell_type": "markdown",
   "id": "a5b5aa19-2071-4528-a66a-743b6640b51e",
   "metadata": {},
   "source": [
    "# Python Basic Exercise for Beginners"
   ]
  },
  {
   "cell_type": "markdown",
   "id": "7b81c4e7-474e-4554-8aa5-1d239925a8dc",
   "metadata": {},
   "source": [
    "The exercise contains 15 Python programs to solve, ranging from beginner to intermediate difficulty.\n",
    "The hints and solutions are provided for each question.\n",
    "Tips and essential learning resources accompany each question. These will assist you in solving the exercise and empower you with the knowledge to tackle similar problems in the future, boosting your confidence and capability. As you progress, you’ll become more familiar with the basics of Python."
   ]
  },
  {
   "cell_type": "markdown",
   "id": "99b238c1-6f1c-48d9-9bb9-b79307f57a24",
   "metadata": {},
   "source": [
    "Exercise 1: Calculate the multiplication and sum of two numbers\n",
    "Given two integer numbers, write a Python code to return their product only if the product is equal to or lower than 1000. Otherwise, return their sum.\n",
    "\n",
    "Given 1:\n",
    "\n",
    "number1 = 20\n",
    "number2 = 30\n",
    "Expected Output:\n",
    "\n",
    "The result is 600\n",
    "Given 2:\n",
    "\n",
    "number1 = 40\n",
    "number2 = 30\n",
    "Expected Output:\n",
    "\n",
    "The result is 70"
   ]
  },
  {
   "cell_type": "code",
   "execution_count": 6,
   "id": "5c511f66-50ac-4fcf-b019-987955443e17",
   "metadata": {},
   "outputs": [
    {
     "name": "stdout",
     "output_type": "stream",
     "text": [
      "The result is 600\n",
      "The result is 70\n"
     ]
    }
   ],
   "source": [
    "def multiplication_or_sum(num1, num2):\n",
    "    # calculate product of two number\n",
    "    product = num1 * num2\n",
    "    # check if product is less then 1000\n",
    "    if product <= 1000:\n",
    "        return product\n",
    "    else:\n",
    "        # product is greater than 1000 calculate sum\n",
    "        return num1 + num2\n",
    "\n",
    "# first condition\n",
    "result = multiplication_or_sum(20, 30)\n",
    "print(\"The result is\", result)\n",
    "\n",
    "# Second condition\n",
    "result = multiplication_or_sum(40, 30)\n",
    "print(\"The result is\", result)"
   ]
  },
  {
   "cell_type": "markdown",
   "id": "61703fb4-a913-474a-b120-306d136b2e7d",
   "metadata": {},
   "source": [
    "\n",
    "Exercise 2: Print the Sum of a Current Number and a Previous number\n",
    "Write a Python code to iterate the first 10 numbers, and in each iteration, print the sum of the current and previous number.\n",
    "\n",
    "Expected Output:\n",
    "\n",
    "Printing current and previous number sum in a range(10)\n",
    "Current Number 0 Previous Number  0  Sum:  0\n",
    "Current Number 1 Previous Number  0  Sum:  1\n",
    "Current Number 2 Previous Number  1  Sum:  3\n",
    "Current Number 3 Previous Number  2  Sum:  5\n",
    "Current Number 4 Previous Number  3  Sum:  7\n",
    "Current Number 5 Previous Number  4  Sum:  9\n",
    "Current Number 6 Previous Number  5  Sum:  11\n",
    "Current Number 7 Previous Number  6  Sum:  13\n",
    "Current Number 8 Previous Number  7  Sum:  15\n",
    "Current Number 9 Previous Number  8  Sum:  17\n",
    "\n",
    "\n",
    "Python range() function\n",
    "Calculate sum and average in Python\n",
    "Hint\n",
    "Create a variable called previous_num and assigning it to 0\n",
    "Next, iterate through the first 10 numbers using the for loop and range() function\n",
    "Next, display the current number (i), the previous number, and the addition of both numbers in each iteration of a loop\n",
    "Finally, you need to update the previous_num for the next iteration. To do this, assign the value of the current number to the previous number ( previous_num = i)."
   ]
  },
  {
   "cell_type": "code",
   "execution_count": 7,
   "id": "01db1084-d205-4507-9259-bdee33003c1d",
   "metadata": {},
   "outputs": [
    {
     "name": "stdout",
     "output_type": "stream",
     "text": [
      "Printing current and previous number and their sum in a range(10)\n",
      "Current Number 1 Previous Number  0  Sum:  1\n",
      "Current Number 2 Previous Number  1  Sum:  3\n",
      "Current Number 3 Previous Number  2  Sum:  5\n",
      "Current Number 4 Previous Number  3  Sum:  7\n",
      "Current Number 5 Previous Number  4  Sum:  9\n",
      "Current Number 6 Previous Number  5  Sum:  11\n",
      "Current Number 7 Previous Number  6  Sum:  13\n",
      "Current Number 8 Previous Number  7  Sum:  15\n",
      "Current Number 9 Previous Number  8  Sum:  17\n",
      "Current Number 10 Previous Number  9  Sum:  19\n"
     ]
    }
   ],
   "source": [
    "print(\"Printing current and previous number and their sum in a range(10)\")\n",
    "previous_num = 0\n",
    "\n",
    "# loop from 1 to 10\n",
    "for i in range(1, 11):\n",
    "    x_sum = previous_num + i\n",
    "    print(\"Current Number\", i, \"Previous Number \", previous_num, \" Sum: \", x_sum)\n",
    "    # modify previous number\n",
    "    # set it to the current number\n",
    "    previous_num = i"
   ]
  },
  {
   "cell_type": "markdown",
   "id": "9f8dc71d-2e5b-41c5-a556-544421399418",
   "metadata": {},
   "source": [
    "Exercise 3: Print characters present at an even index number\n",
    "Write a Python code to accept a string from the user and display characters present at an even index number.\n",
    "\n",
    "For example, str = \"PYnative\". so your code should display ‘P’, ‘n’, ‘t’, ‘v’.\n",
    "\n",
    "Expected Output:\n",
    "\n",
    "Orginal String is  PYnative\n",
    "Printing only even index chars\n",
    "P\n",
    "n\n",
    "t\n",
    "v\n",
    "Hint\n",
    "Use the Python input() function to accept a string from a user.\n",
    "Calculate the length of the string using the len() function\n",
    "Next, iterate characters of a string using the loop and range() function.\n",
    "Use start = 0, stop = len(s)-1, and step =2. the step is 2 because we want only even index numbers\n",
    "In each iteration of a loop, use s[i] to print characters present at the current even index number"
   ]
  },
  {
   "cell_type": "code",
   "execution_count": 8,
   "id": "1a46c335-18f7-4401-9d82-b838aca97216",
   "metadata": {},
   "outputs": [
    {
     "name": "stdin",
     "output_type": "stream",
     "text": [
      "Enter word  Welcome to Score bbooster\n"
     ]
    },
    {
     "name": "stdout",
     "output_type": "stream",
     "text": [
      "Original String: Welcome to Score bbooster\n",
      "Printing only even index chars\n",
      "index[ 0 ] W\n",
      "index[ 2 ] l\n",
      "index[ 4 ] o\n",
      "index[ 6 ] e\n",
      "index[ 8 ] t\n",
      "index[ 10 ]  \n",
      "index[ 12 ] c\n",
      "index[ 14 ] r\n",
      "index[ 16 ]  \n",
      "index[ 18 ] b\n",
      "index[ 20 ] o\n",
      "index[ 22 ] t\n"
     ]
    }
   ],
   "source": [
    "# accept input string from a user\n",
    "word = input('Enter word ')\n",
    "print(\"Original String:\", word)\n",
    "\n",
    "# get the length of a string\n",
    "size = len(word)\n",
    "\n",
    "# iterate a each character of a string\n",
    "# start: 0 to start with first character\n",
    "# stop: size-1 because index starts with 0\n",
    "# step: 2 to get the characters present at even index like 0, 2, 4\n",
    "print(\"Printing only even index chars\")\n",
    "for i in range(0, size - 1, 2):\n",
    "    print(\"index[\", i, \"]\", word[i])"
   ]
  },
  {
   "cell_type": "code",
   "execution_count": 11,
   "id": "f4b50f2f-f55c-4d71-b79a-9654080d0cf0",
   "metadata": {},
   "outputs": [
    {
     "name": "stdin",
     "output_type": "stream",
     "text": [
      "Enter word  hsdjhdsjsd\n"
     ]
    },
    {
     "name": "stdout",
     "output_type": "stream",
     "text": [
      "Original String: hsdjhdsjsd\n",
      "h\n",
      "d\n",
      "h\n",
      "s\n",
      "s\n"
     ]
    }
   ],
   "source": [
    "# accept input string from a user\n",
    "word = input('Enter word ')\n",
    "print(\"Original String:\", word)\n",
    "\n",
    "# using list slicing\n",
    "# convert string to list\n",
    "# pick only even index chars\n",
    "x = list(word)\n",
    "for i in x[0::2]:\n",
    "    print(i)\n"
   ]
  },
  {
   "cell_type": "markdown",
   "id": "46a3b02e-e7ad-49d4-9f77-d291e32e3e1d",
   "metadata": {},
   "source": [
    "Exercise 4: Remove first n characters from a string\n",
    "Write a Python code to remove characters from a string from 0 to n and return a new string.\n",
    "\n",
    "For Example:\n",
    "\n",
    "remove_chars(\"PYnative\", 4) so output must be tive. Here, you need to remove the first four characters from a string.\n",
    "remove_chars(\"PYnative\", 2) so output must be native. Here, you need to remove the first two characters from a string.\n",
    "Note: n must be less than the length of the string.\n",
    "\n",
    "Use string slicing to get a substring. For example, remove the first four characters using s[4:].\n"
   ]
  },
  {
   "cell_type": "code",
   "execution_count": 19,
   "id": "06d72256-f22f-4d78-b614-2bb7a5e82ecd",
   "metadata": {},
   "outputs": [
    {
     "name": "stdout",
     "output_type": "stream",
     "text": [
      "Removing characters from a string\n",
      "Original string: pynative\n",
      "tive\n",
      "Original string: pynative\n",
      "native\n"
     ]
    }
   ],
   "source": [
    "def remove_chars(word, n):\n",
    "    print('Original string:', word)\n",
    "    x = word[n:]\n",
    "    return x\n",
    "\n",
    "print(\"Removing characters from a string\")\n",
    "print(remove_chars(\"pynative\", 4))\n",
    "print(remove_chars(\"pynative\", 2))"
   ]
  },
  {
   "cell_type": "markdown",
   "id": "9e2b5635-b447-42a5-9b6c-07bf708ac38c",
   "metadata": {},
   "source": [
    "Exercise 5: Check if the first and last numbers of a list are the same\n",
    "Write a code to return True if the list’s first and last numbers are the same. If the numbers are different, return False.\n",
    "\n",
    "Given:\n",
    "\n",
    "numbers_x = [10, 20, 30, 40, 10]\n",
    "numbers_y = [75, 65, 35, 75, 30]\n",
    "Expected Output:\n",
    "\n",
    "Given list: [10, 20, 30, 40, 10]\n",
    "result is True\n",
    "\n",
    "numbers_y = [75, 65, 35, 75, 30]\n",
    "result is False\n",
    "S\n"
   ]
  },
  {
   "cell_type": "code",
   "execution_count": 23,
   "id": "78d3427e-c77e-490f-92ae-eff8d6e49e25",
   "metadata": {},
   "outputs": [
    {
     "name": "stdout",
     "output_type": "stream",
     "text": [
      "Given list: [10, 20, 30, 40, 10]\n",
      "result is True\n",
      "Given list: [75, 65, 35, 75, 30]\n",
      "result is False\n"
     ]
    }
   ],
   "source": [
    "def first_last_same(numberList):\n",
    "    print(\"Given list:\", numberList)\n",
    "    \n",
    "    first_num = numberList[0]\n",
    "    last_num = numberList[-1]\n",
    "    \n",
    "    if first_num == last_num:\n",
    "        return True\n",
    "    else:\n",
    "        return False\n",
    "\n",
    "numbers_x = [10, 20, 30, 40, 10]\n",
    "print(\"result is\", first_last_same(numbers_x))\n",
    "\n",
    "numbers_y = [75, 65, 35, 75, 30]\n",
    "print(\"result is\", first_last_same(numbers_y))\n"
   ]
  },
  {
   "cell_type": "markdown",
   "id": "e27e2463-12bd-4659-9c47-93db5a18c476",
   "metadata": {},
   "source": [
    "##### "
   ]
  },
  {
   "cell_type": "markdown",
   "id": "a942f121-77d5-4cab-a222-e404b94034ba",
   "metadata": {},
   "source": [
    "Exercise 6: Display numbers divisible by 5\n",
    "Write a Python code to display numbers from a list divisible by 5\n",
    "\n",
    "Expected Output:\n",
    "\n",
    "Given list is  [10, 20, 33, 46, 55]\n",
    "Divisible by 5\n",
    "10\n",
    "20"
   ]
  },
  {
   "cell_type": "code",
   "execution_count": 25,
   "id": "babd4380-f932-4505-8158-ceaa5903ffef",
   "metadata": {},
   "outputs": [
    {
     "name": "stdout",
     "output_type": "stream",
     "text": [
      "Given list: [10, 20, 33, 46, 55]\n",
      "Divisible by 5:\n",
      "10\n",
      "20\n",
      "55\n"
     ]
    }
   ],
   "source": [
    "num_list = [10, 20, 33, 46, 55]\n",
    "print(\"Given list:\", num_list)\n",
    "print('Divisible by 5:')\n",
    "for num in num_list:\n",
    "    if num % 5 == 0:\n",
    "        print(num)\n"
   ]
  },
  {
   "cell_type": "markdown",
   "id": "d1387b3b-7e0e-498b-8a15-a8baed4e348c",
   "metadata": {},
   "source": [
    "Exercise 7: Find the number of occurrences of a substring in a string\n",
    "Write a Python code to find how often the substring “Emma” appears in the given string.\n",
    "\n",
    "Given:\n",
    "\n",
    "str_x = \"Emma is good developer. Emma is a writer\"\n",
    "Expected Output:\n",
    "\n",
    "Emma appeared 2 times\n"
   ]
  },
  {
   "cell_type": "code",
   "execution_count": 27,
   "id": "66d05a14-8959-4495-a90c-3125f2fb174c",
   "metadata": {},
   "outputs": [
    {
     "name": "stdout",
     "output_type": "stream",
     "text": [
      "Emma apppeared 2 times\n"
     ]
    }
   ],
   "source": [
    "str_x = \"Emma is good developer. Emma is a writer\"\n",
    "# use count method of a str class\n",
    "cnt = str_x.count(\"Emma\")\n",
    "print(\"Emma apppeared\", cnt, \"times\")\n"
   ]
  },
  {
   "cell_type": "code",
   "execution_count": 28,
   "id": "7def3080-37e1-4d38-94f5-58140239577f",
   "metadata": {},
   "outputs": [
    {
     "name": "stdout",
     "output_type": "stream",
     "text": [
      "Given String:  Emma is good developer. Emma is a writer\n",
      "Emma appeared  2 times\n"
     ]
    }
   ],
   "source": [
    "def count_emma(statement):\n",
    "    print(\"Given String: \", statement)\n",
    "    count = 0\n",
    "    for i in range(len(statement) - 1):\n",
    "        count += statement[i: i + 4] == 'Emma'\n",
    "    return count\n",
    "\n",
    "count = count_emma(\"Emma is good developer. Emma is a writer\")\n",
    "print(\"Emma appeared \", count, \"times\")"
   ]
  },
  {
   "cell_type": "markdown",
   "id": "bc3e0f24-7117-4fdd-b253-bfd6b7c68061",
   "metadata": {},
   "source": [
    "Exercise 8: Print the following pattern\n",
    "1 \n",
    "2 2 \n",
    "3 3 3 \n",
    "4 4 4 4 \n",
    "5 5 5 5 5\n"
   ]
  },
  {
   "cell_type": "code",
   "execution_count": 32,
   "id": "303a092d-4584-4d80-81c4-7cc081b865ed",
   "metadata": {},
   "outputs": [
    {
     "name": "stdout",
     "output_type": "stream",
     "text": [
      "\n",
      "\n",
      "1 \n",
      "\n",
      "2 2 \n",
      "\n",
      "3 3 3 \n",
      "\n",
      "4 4 4 4 \n",
      "\n",
      "5 5 5 5 5 \n",
      "\n",
      "6 6 6 6 6 6 \n",
      "\n",
      "7 7 7 7 7 7 7 \n",
      "\n",
      "8 8 8 8 8 8 8 8 \n",
      "\n",
      "9 9 9 9 9 9 9 9 9 \n",
      "\n"
     ]
    }
   ],
   "source": [
    "for num in range(10):\n",
    "    for i in range(num):\n",
    "        print (num, end=\" \") #print number\n",
    "    # new line after each row to display pattern correctly\n",
    "    print(\"\\n\")"
   ]
  },
  {
   "cell_type": "markdown",
   "id": "93b4faa5-f02d-4f85-b7e5-19399f8ab2ee",
   "metadata": {},
   "source": [
    "\n",
    "Exercise 9: Check Palindrome Number\n",
    "Write a Python code to check if the given number is palindrome. A palindrome number is a number that is the same after reverse. For example, 545 is the palindrome number.\n",
    "\n",
    "Expected Output:\n",
    "\n",
    "original number 121\n",
    "Yes. given number is palindrome number\n",
    "\n",
    "original number 125\n",
    "No. given number is not palindrome number\n",
    "\n",
    "Hint\n",
    "Reverse the given number and save it in a different variable\n",
    "Use the if condition to check if the original and reverse numbers are identical. If yes, return True."
   ]
  },
  {
   "cell_type": "code",
   "execution_count": 34,
   "id": "012f9912-01be-4343-bbdd-1f5330e0edbf",
   "metadata": {},
   "outputs": [
    {
     "name": "stdout",
     "output_type": "stream",
     "text": [
      "original number 121\n",
      "Given number palindrome\n",
      "original number 125\n",
      "Given number is not palindrome\n"
     ]
    }
   ],
   "source": [
    "def palindrome(number):\n",
    "    print(\"original number\", number)\n",
    "    original_num = number\n",
    "    \n",
    "    # reverse the given number\n",
    "    reverse_num = 0\n",
    "    while number > 0:\n",
    "        reminder = number % 10\n",
    "        reverse_num = (reverse_num * 10) + reminder\n",
    "        number = number // 10\n",
    "\n",
    "    # check numbers\n",
    "    if original_num == reverse_num:\n",
    "        print(\"Given number palindrome\")\n",
    "    else:\n",
    "        print(\"Given number is not palindrome\")\n",
    "\n",
    "palindrome(121)\n",
    "palindrome(125)\n"
   ]
  },
  {
   "cell_type": "markdown",
   "id": "86beea97-ffc8-4a01-8ee4-61dd6e39fdcd",
   "metadata": {},
   "source": [
    "Exercise 10: Merge two lists using the following condition\n",
    "Given two lists of numbers, write a Python code to create a new list such that the latest list should contain odd numbers from the first list and even numbers from the second list.\n",
    "\n"
   ]
  },
  {
   "cell_type": "markdown",
   "id": "54dde031-d3b4-424b-8823-5054ac56f115",
   "metadata": {},
   "source": [
    "list1 = [10, 20, 25, 30, 35]\n",
    "list2 = [40, 45, 60, 75, 90]\n",
    "Expected Output:\n",
    "\n",
    "result list: [25, 35, 40, 60, 90]\n",
    "Show Hint\n",
    "Create an empty list named result_list\n",
    "Iterate the first list using a for loop\n",
    "In each iteration check if the current number is odd using the num % 2 != 0 formula. If the current number is odd, add it to the result list\n",
    "Now, Iterate the second list using a loop.\n",
    "In each iteration check if the current number is even using the num % 2 == 0 formula. If the current number is even, add it to the result list.\n",
    "Print the result list.\n"
   ]
  },
  {
   "cell_type": "code",
   "execution_count": 36,
   "id": "44d7e2c7-4460-4f47-8861-dfd385103555",
   "metadata": {},
   "outputs": [
    {
     "name": "stdout",
     "output_type": "stream",
     "text": [
      "result list: [25, 35, 40, 60, 90]\n"
     ]
    }
   ],
   "source": [
    "def merge_list(list1, list2):\n",
    "    result_list = []\n",
    "    \n",
    "    # iterate first list\n",
    "    for num in list1:\n",
    "        # check if current number is odd\n",
    "        if num % 2 != 0:\n",
    "            # add odd number to result list\n",
    "            result_list.append(num)\n",
    "    \n",
    "    # iterate second list\n",
    "    for num in list2:\n",
    "        # check if current number is even\n",
    "        if num % 2 == 0:\n",
    "            # add even number to result list\n",
    "            result_list.append(num)\n",
    "    return result_list\n",
    "\n",
    "list1 = [10, 20, 25, 30, 35]\n",
    "list2 = [40, 45, 60, 75, 90]\n",
    "print(\"result list:\", merge_list(list1, list2))\n"
   ]
  },
  {
   "cell_type": "markdown",
   "id": "f95a693a-5418-4b71-afad-776dca635263",
   "metadata": {},
   "source": [
    "Exercise 11: Get each digit from a number in the reverse order.\n",
    "For example, If the given integer number is 7536, the output shall be “6 3 5 7“, with a space separating the digits."
   ]
  },
  {
   "cell_type": "code",
   "execution_count": 37,
   "id": "7dcc8213-6426-4ca1-aa16-2b72a12647a5",
   "metadata": {},
   "outputs": [
    {
     "name": "stdout",
     "output_type": "stream",
     "text": [
      "Given number 7536\n",
      "6 3 5 7 "
     ]
    }
   ],
   "source": [
    "number = 7536\n",
    "print(\"Given number\", number)\n",
    "while number > 0:\n",
    "    # get the last digit\n",
    "    digit = number % 10\n",
    "    # remove the last digit and repeat the loop\n",
    "    number = number // 10\n",
    "    print(digit, end=\" \")\n"
   ]
  },
  {
   "cell_type": "markdown",
   "id": "0a5e3ae3-26ae-402d-9e45-684f5a25402b",
   "metadata": {},
   "source": [
    "# Exercise 12: Calculate income \n",
    "calculate income tax for the given income by adhering to the rules below\n",
    "\n",
    "Taxable Income\tRate (in %)\n",
    "First $10,000\t0\n",
    "Next $10,000\t10\n",
    "The remaining\t20\n",
    "Expected Output:\n",
    "\n",
    "For example, suppose the income is 45000, and the income tax payable is\n",
    "\n",
    "10000*0% + 10000*10%  + 25000*20% = $6000."
   ]
  },
  {
   "cell_type": "code",
   "execution_count": 38,
   "id": "b2eba8c7-cd03-4dbe-942a-e6c8324dbfc0",
   "metadata": {},
   "outputs": [
    {
     "name": "stdout",
     "output_type": "stream",
     "text": [
      "Given income 45000\n",
      "Total tax to pay is 6000.0\n"
     ]
    }
   ],
   "source": [
    "income = 45000\n",
    "tax_payable = 0\n",
    "print(\"Given income\", income)\n",
    "\n",
    "if income <= 10000:\n",
    "    tax_payable = 0\n",
    "elif income <= 20000:\n",
    "    # no tax on first 10,000\n",
    "    x = income - 10000\n",
    "    # 10% tax\n",
    "    tax_payable = x * 10 / 100\n",
    "else:\n",
    "    # first 10,000\n",
    "    tax_payable = 0\n",
    "\n",
    "    # next 10,000 10% tax\n",
    "    tax_payable = 10000 * 10 / 100\n",
    "\n",
    "    # remaining 20%tax\n",
    "    tax_payable += (income - 20000) * 20 / 100\n",
    "\n",
    "print(\"Total tax to pay is\", tax_payable)\n"
   ]
  },
  {
   "cell_type": "markdown",
   "id": "62b5e281-08f5-4ef7-9104-b5eb17e3c8c8",
   "metadata": {},
   "source": [
    "Exercise 13: Print multiplication table from 1 to 10\n",
    "Expected Output:\n",
    "\n",
    "1  2 3 4 5 6 7 8 9 10 \t\t\n",
    "2  4 6 8 10 12 14 16 18 20 \t\t\n",
    "3  6 9 12 15 18 21 24 27 30 \t\t\n",
    "4  8 12 16 20 24 28 32 36 40 \t\t\n",
    "5  10 15 20 25 30 35 40 45 50 \t\t\n",
    "6  12 18 24 30 36 42 48 54 60 \t\t\n",
    "7  14 21 28 35 42 49 56 63 70 \t\t\n",
    "8  16 24 32 40 48 56 64 72 80 \t\t\n",
    "9  18 27 36 45 54 63 72 81 90 \t\t\n",
    "10 20 30 40 50 60 70 80 90 100 \n",
    "\n",
    "Hint\n",
    "Create the outer for loop to iterate numbers from 1 to 10. Thus, the outer loop’s total number of iterations is 10.\n",
    "Create an inner loop to iterate 10 times.\n",
    "For each outer loop iteration, the inner loop will execute 10 times.\n",
    "The number is 1 in the first iteration of the outer loop. In the next, it is 2, and so on until it reaches 10.\n",
    "In each iteration of an inner loop, we perform a simple calculation: the multiplication of two numbers. (current outer number and current inner number)"
   ]
  },
  {
   "cell_type": "code",
   "execution_count": 40,
   "id": "92bba03f-7273-4309-8b88-979fa2550ae4",
   "metadata": {},
   "outputs": [
    {
     "name": "stdout",
     "output_type": "stream",
     "text": [
      "1 2 3 4 5 6 7 8 9 10 \t\t\n",
      "2 4 6 8 10 12 14 16 18 20 \t\t\n",
      "3 6 9 12 15 18 21 24 27 30 \t\t\n",
      "4 8 12 16 20 24 28 32 36 40 \t\t\n",
      "5 10 15 20 25 30 35 40 45 50 \t\t\n",
      "6 12 18 24 30 36 42 48 54 60 \t\t\n",
      "7 14 21 28 35 42 49 56 63 70 \t\t\n",
      "8 16 24 32 40 48 56 64 72 80 \t\t\n",
      "9 18 27 36 45 54 63 72 81 90 \t\t\n",
      "10 20 30 40 50 60 70 80 90 100 \t\t\n"
     ]
    }
   ],
   "source": [
    "for i in range(1, 11):\n",
    "    for j in range(1, 11):\n",
    "        print(i * j, end=\" \")\n",
    "    print(\"\\t\\t\")\n"
   ]
  },
  {
   "cell_type": "markdown",
   "id": "30c61973-3bc8-45df-83cb-f5723acce2e3",
   "metadata": {},
   "source": [
    "Exercise 14: Print a downward half-pyramid pattern of stars\n",
    "* * * * *  \n",
    "* * * *  \n",
    "* * *  \n",
    "* *  \n",
    "*\n",
    "\n",
    "# # # # #  \n",
    "# # # #  \n",
    "# # #  \n",
    "# #  \n",
    "#  \n",
    " "
   ]
  },
  {
   "cell_type": "code",
   "execution_count": 43,
   "id": "b9919b4b-dd06-4230-ba65-d442e6f8a6bb",
   "metadata": {},
   "outputs": [
    {
     "name": "stdout",
     "output_type": "stream",
     "text": [
      "# # # # #  \n",
      "# # # #  \n",
      "# # #  \n",
      "# #  \n",
      "#  \n",
      " \n"
     ]
    }
   ],
   "source": [
    "for i in range(6, 0, -1):\n",
    "    for j in range(0, i - 1):\n",
    "        print(\"#\", end=' ')\n",
    "    print(\" \")\n"
   ]
  },
  {
   "cell_type": "markdown",
   "id": "2e40eb82-16a0-4ce5-b4d2-ba0ed4de6401",
   "metadata": {},
   "source": [
    "Exercise 15: Get an int value of base raises to the power of exponent\n",
    "Write a function called exponent(base, exp) that returns an int value of base raises to the power of exp.\n",
    "Note here exp is a non-negative integer, and the base is an integer.\n",
    "\n",
    "Expected output\n",
    "\n",
    "Case 1:\n",
    "\n",
    "base = 2\n",
    "exponent = 5\n",
    "\n",
    "2 raises to the power of 5: 32 i.e. (2 *2 * 2 *2 *2 = 32)"
   ]
  },
  {
   "cell_type": "code",
   "execution_count": 44,
   "id": "45ff4de7-4ea1-4a1e-b6bb-6fcf0009cb32",
   "metadata": {},
   "outputs": [
    {
     "name": "stdout",
     "output_type": "stream",
     "text": [
      "5 raises to the power of 4 is:  625\n"
     ]
    }
   ],
   "source": [
    "def exponent(base, exp):\n",
    "    num = exp\n",
    "    result = 1\n",
    "    while num > 0:\n",
    "        result = result * base\n",
    "        num = num - 1\n",
    "    print(base, \"raises to the power of\", exp, \"is: \", result)\n",
    "\n",
    "exponent(5, 4)"
   ]
  },
  {
   "cell_type": "code",
   "execution_count": null,
   "id": "f031a32c-715d-431e-95ca-01568b9ca263",
   "metadata": {},
   "outputs": [],
   "source": []
  }
 ],
 "metadata": {
  "kernelspec": {
   "display_name": "Python 3 (ipykernel)",
   "language": "python",
   "name": "python3"
  },
  "language_info": {
   "codemirror_mode": {
    "name": "ipython",
    "version": 3
   },
   "file_extension": ".py",
   "mimetype": "text/x-python",
   "name": "python",
   "nbconvert_exporter": "python",
   "pygments_lexer": "ipython3",
   "version": "3.11.9"
  }
 },
 "nbformat": 4,
 "nbformat_minor": 5
}
