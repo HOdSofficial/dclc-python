{
 "cells": [
  {
   "cell_type": "code",
   "execution_count": 3,
   "id": "98389f24-8a34-4c6a-afcb-d3f5c56728ba",
   "metadata": {},
   "outputs": [],
   "source": [
    "x = 10\n",
    "y = 50\n",
    "\n",
    "if x > y:\n",
    "    print(f'{x} is greater than {y}')\n"
   ]
  },
  {
   "cell_type": "code",
   "execution_count": null,
   "id": "04ab46a7-8def-4bf1-82b3-20d9feb6b0b1",
   "metadata": {},
   "outputs": [],
   "source": []
  },
  {
   "cell_type": "code",
   "execution_count": null,
   "id": "d7432e8b-5881-42fd-877f-f54115a8b1b5",
   "metadata": {},
   "outputs": [],
   "source": []
  }
 ],
 "metadata": {
  "kernelspec": {
   "display_name": "Python 3 (ipykernel)",
   "language": "python",
   "name": "python3"
  },
  "language_info": {
   "codemirror_mode": {
    "name": "ipython",
    "version": 3
   },
   "file_extension": ".py",
   "mimetype": "text/x-python",
   "name": "python",
   "nbconvert_exporter": "python",
   "pygments_lexer": "ipython3",
   "version": "3.11.9"
  }
 },
 "nbformat": 4,
 "nbformat_minor": 5
}
