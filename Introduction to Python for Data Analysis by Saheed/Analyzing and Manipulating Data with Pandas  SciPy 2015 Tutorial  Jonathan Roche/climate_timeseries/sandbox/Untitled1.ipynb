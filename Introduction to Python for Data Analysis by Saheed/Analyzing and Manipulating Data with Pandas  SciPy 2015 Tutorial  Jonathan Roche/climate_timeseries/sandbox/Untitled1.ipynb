{
 "cells": [
  {
   "cell_type": "markdown",
   "id": "f91e9176-fed9-4eb2-8947-da2b0c4c7512",
   "metadata": {},
   "source": [
    "GRADES "
   ]
  },
  {
   "cell_type": "code",
   "execution_count": 27,
   "id": "16dc3abb-c198-42f9-8e97-fc5711cfb2b1",
   "metadata": {},
   "outputs": [
    {
     "name": "stdin",
     "output_type": "stream",
     "text": [
      "Enter marks : 24\n"
     ]
    },
    {
     "name": "stdout",
     "output_type": "stream",
     "text": [
      "F grade\n"
     ]
    }
   ],
   "source": [
    "mark = int(input(\"Enter marks :\"))\n",
    "\n",
    "if mark >= 70:\n",
    "    print(\"A grade\")\n",
    "    \n",
    "elif mark >= 60:\n",
    "    print(\"B grade\")\n",
    "\n",
    "elif mark >= 50: \n",
    "    print(\"C grade\")\n",
    "\n",
    "elif mark >= 45:\n",
    "    print(\"D grade\")\n",
    "\n",
    "elif mark >= 40:\n",
    "    print(\"E grade\")\n",
    "\n",
    "else:\n",
    "    print(\"F grade\")\n",
    "    \n",
    "\n",
    "\n",
    "\n"
   ]
  },
  {
   "cell_type": "code",
   "execution_count": 23,
   "id": "dddda381-f4a7-4c00-9346-66102cca3ff0",
   "metadata": {},
   "outputs": [
    {
     "name": "stdout",
     "output_type": "stream",
     "text": [
      "B grade\n"
     ]
    }
   ],
   "source": [
    "# single line cmment\n",
    "\"\"\" user willlenter \n",
    "djdjdd \n",
    "dfjhfjfj\"\"\"\n",
    "\n",
    "x = float(input(\"enter a real number: \"))\n",
    "y = round(x)\n",
    "if x>0:\n",
    "    if x>0:\n",
    "        if y>x\n",
    "         "
   ]
  },
  {
   "cell_type": "code",
   "execution_count": null,
   "id": "6ba2e2a1-2c11-426a-a3c2-5d87fa00fed2",
   "metadata": {},
   "outputs": [],
   "source": []
  }
 ],
 "metadata": {
  "kernelspec": {
   "display_name": "Python 3 (ipykernel)",
   "language": "python",
   "name": "python3"
  },
  "language_info": {
   "codemirror_mode": {
    "name": "ipython",
    "version": 3
   },
   "file_extension": ".py",
   "mimetype": "text/x-python",
   "name": "python",
   "nbconvert_exporter": "python",
   "pygments_lexer": "ipython3",
   "version": "3.11.9"
  }
 },
 "nbformat": 4,
 "nbformat_minor": 5
}
