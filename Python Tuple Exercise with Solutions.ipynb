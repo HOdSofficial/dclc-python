{
 "cells": [
  {
   "cell_type": "markdown",
   "id": "ee24a86a-3c7a-47f6-89f2-5d9d20452984",
   "metadata": {},
   "source": [
    "Python Tuple Exercise with Solutions"
   ]
  },
  {
   "cell_type": "markdown",
   "id": "015872c8-c3d8-4498-b5eb-d9464b1b5e07",
   "metadata": {},
   "source": [
    "### Home » Python Exercises » Python Tuple Exercise with Solutions\n",
    "Python Tuple Exercise with Solutions\n",
    "Updated on: December 8, 2021 | 97 Comments\n",
    "\n",
    "A tuple is an immutable object in Python that can’t be changed. Tuples are also sequences, just like Python lists.\n",
    "\n",
    "This Python Tuple exercise aims to help you to learn and practice tuple operations. All questions are tested on Python 3.\n",
    "\n",
    "Also Read:\n",
    "\n",
    "Python Tuples\n",
    "Python Tuple Quiz\n",
    "This Tuple exercise includes the following: –\n",
    "\n",
    "\n",
    "It contains 10 questions and solutions provided for each question.\n",
    "It has questions to practice Python tuple assignments, programs, and challenges.\n",
    "This tuple exercise covers tuple creation, operations, unpacking of a tuple.\n",
    "When you complete each question, you get more familiar with Python tuple. Let us know if you have any alternative solutions. It will help other developers.\n",
    "\n",
    "Use Online Code Editor to solve exercise questions.\n",
    "Read the complete guide on Python Tuples to solve this exercise.\n",
    "Table of contents\n",
    "Exercise 1: Reverse the tuple\n",
    "Exercise 2: Access value 20 from the tuple\n",
    "Exercise 3: Create a tuple with single item 50\n",
    "Exercise 4: Unpack the tuple into 4 variables\n",
    "Exercise 5: Swap two tuples in Python\n",
    "Exercise 6: Copy specific elements from one tuple to a new tuple\n",
    "Exercise 7: Modify the tuple\n",
    "Exercise 8: Sort a tuple of tuples by 2nd item\n",
    "Exercise 9: Counts the number of occurrences of item 50 from a tuple\n",
    "Exercise 10: Check if all items in the tuple are the same\n",
    "Exercise 1: Reverse the tuple\n",
    "Given:\n",
    "\n",
    "\n",
    "tuple1 = (10, 20, 30, 40, 50) '''"
   ]
  },
  {
   "cell_type": "code",
   "execution_count": 15,
   "id": "8fe6bc0c-73a5-45c1-9362-f8afc3a1b598",
   "metadata": {},
   "outputs": [
    {
     "name": "stdout",
     "output_type": "stream",
     "text": [
      "(10, 20, 30, 40, 50)\n"
     ]
    },
    {
     "data": {
      "text/plain": [
       "(50, 40, 30, 20, 10)"
      ]
     },
     "execution_count": 15,
     "metadata": {},
     "output_type": "execute_result"
    }
   ],
   "source": [
    "tuple1 = (10, 20, 30, 40, 50) \n",
    "print(tuple1)\n",
    "tuple1[::-1]"
   ]
  },
  {
   "cell_type": "code",
   "execution_count": 19,
   "id": "a55037dc-538c-4329-9a5f-873ee6d7be90",
   "metadata": {},
   "outputs": [
    {
     "data": {
      "text/plain": [
       "20"
      ]
     },
     "execution_count": 19,
     "metadata": {},
     "output_type": "execute_result"
    }
   ],
   "source": [
    " 'Exercise 2: Access value 20 from the tuple'\n",
    "'The given tuple is a nested tuple. write a Python program to print the value 20.'\n",
    "\n",
    "'Given: '\n",
    "\n",
    "tuple2 = (\"Orange\", [10, 20, 30], (5, 15, 25))\n",
    "tuple2[1][1]"
   ]
  },
  {
   "cell_type": "code",
   "execution_count": 22,
   "id": "5e20746f-3077-4747-9e76-f4f9bfeb7ff8",
   "metadata": {},
   "outputs": [
    {
     "name": "stdout",
     "output_type": "stream",
     "text": [
      "(50,)\n"
     ]
    }
   ],
   "source": [
    "tuple3= (50, )\n",
    "print(tuple3)"
   ]
  },
  {
   "cell_type": "code",
   "execution_count": 26,
   "id": "7a6f5b38-09c7-44e3-a27e-78ce8ea334d6",
   "metadata": {},
   "outputs": [
    {
     "name": "stdout",
     "output_type": "stream",
     "text": [
      "10\n",
      "20\n",
      "30\n",
      "40\n"
     ]
    }
   ],
   "source": [
    "#Exercise 4: Unpack the tuple into 4 variables\n",
    "\n",
    "\n",
    "tuple1 = (10, 20, 30, 40)\n",
    "for i in tuple1:\n",
    "    print(i)\n",
    "    \n"
   ]
  },
  {
   "cell_type": "code",
   "execution_count": 27,
   "id": "7ce34e42-8189-4987-8113-a448a5d0e811",
   "metadata": {},
   "outputs": [
    {
     "name": "stdout",
     "output_type": "stream",
     "text": [
      "10\n",
      "20\n",
      "30\n",
      "40\n"
     ]
    }
   ],
   "source": [
    "#Exercise 4: Unpack the tuple into 4 variables\n",
    "tuple1 = (10, 20, 30, 40)\n",
    "\n",
    "# unpack tuple into 4 variables\n",
    "a, b, c, d = tuple1\n",
    "print(a)\n",
    "print(b)\n",
    "print(c)\n",
    "print(d)"
   ]
  },
  {
   "cell_type": "code",
   "execution_count": 32,
   "id": "749b3e8c-0055-4273-a4ea-b687ba63003b",
   "metadata": {},
   "outputs": [
    {
     "name": "stdout",
     "output_type": "stream",
     "text": [
      "(11, 22)\n",
      "(99, 88)\n"
     ]
    }
   ],
   "source": [
    "#Exercise 5: Swap two tuples in Python\n",
    "tuple1 = (11, 22)\n",
    "tuple2 = (99, 88)\n",
    "tuple1, tuple2 = tuple2, tuple1\n",
    "print(tuple2)\n",
    "print(tuple1)"
   ]
  },
  {
   "cell_type": "code",
   "execution_count": 31,
   "id": "aa972f4b-b69f-4d36-874d-8853761423b7",
   "metadata": {},
   "outputs": [
    {
     "name": "stdout",
     "output_type": "stream",
     "text": [
      "(44, 55)\n"
     ]
    }
   ],
   "source": [
    "#Exercise 6: Copy specific elements from one tuple to a new tuple\n",
    "tuple1 = (11, 22, 33, 44, 55, 66)\n",
    "tuple2 = tuple1[3:-1]\n",
    "print(tuple2)"
   ]
  },
  {
   "cell_type": "code",
   "execution_count": 43,
   "id": "c4258128-2b27-45d0-930a-15396bc4587f",
   "metadata": {},
   "outputs": [
    {
     "data": {
      "text/plain": [
       "(11, [222, 33], 44, 55)"
      ]
     },
     "execution_count": 43,
     "metadata": {},
     "output_type": "execute_result"
    }
   ],
   "source": [
    "#Exercise 7: Modify the tuple\n",
    "tuple1 = (11, [22, 33], 44, 55)\n",
    "tuple1[1][0]= 222\n",
    "tuple1"
   ]
  },
  {
   "cell_type": "code",
   "execution_count": 45,
   "id": "1c2e6b72-a031-441e-a7cf-69096dd60bc7",
   "metadata": {},
   "outputs": [
    {
     "name": "stdout",
     "output_type": "stream",
     "text": [
      "(('c', 11), ('a', 23), ('d', 29), ('b', 37))\n"
     ]
    }
   ],
   "source": [
    "#Exercise 8: Sort a tuple of tuples by 2nd item\n",
    "tuple1 = (('a', 23), ('b', 37), ('c', 11), ('d', 29))\n",
    "tuple1 = tuple(sorted(list(tuple1), key=lambda x: x[1]))\n",
    "print(tuple1)\n"
   ]
  },
  {
   "cell_type": "code",
   "execution_count": 49,
   "id": "810d7cf6-f127-4a2e-9970-a867e8c9e2c2",
   "metadata": {},
   "outputs": [
    {
     "data": {
      "text/plain": [
       "2"
      ]
     },
     "execution_count": 49,
     "metadata": {},
     "output_type": "execute_result"
    }
   ],
   "source": [
    "#Exercise 9: Counts the number of occurrences of item 50 from a tuple\n",
    "tuple1 = (50, 10, 60, 70, 50)\n",
    "tuple1.count(50)"
   ]
  },
  {
   "cell_type": "code",
   "execution_count": 53,
   "id": "e0442ca2-1a75-4217-b62a-668981089f74",
   "metadata": {},
   "outputs": [
    {
     "name": "stdout",
     "output_type": "stream",
     "text": [
      "False\n"
     ]
    }
   ],
   "source": [
    "#Exercise 10: Check if all items in the tuple are the same\n",
    "\n",
    "def check(t):\n",
    "    return all(i == t[0] for i in t)\n",
    "\n",
    "tuple1 = (45, 45, 45, 45)\n",
    "print(check(tuple1))\n"
   ]
  },
  {
   "cell_type": "code",
   "execution_count": 55,
   "id": "8616a53b-09f7-4cce-a465-9dbda15dd36a",
   "metadata": {},
   "outputs": [
    {
     "name": "stdout",
     "output_type": "stream",
     "text": [
      "False\n"
     ]
    }
   ],
   "source": [
    "def check(t):\n",
    "    return all(i == t[0] for i in t)\n",
    "\n",
    "tuple1 = (45, 23, 45, 45)\n",
    "print(check(tuple1))\n"
   ]
  },
  {
   "cell_type": "code",
   "execution_count": null,
   "id": "aa67de37-4222-4644-b225-3becb2b2bee2",
   "metadata": {},
   "outputs": [],
   "source": []
  }
 ],
 "metadata": {
  "kernelspec": {
   "display_name": "Python 3 (ipykernel)",
   "language": "python",
   "name": "python3"
  },
  "language_info": {
   "codemirror_mode": {
    "name": "ipython",
    "version": 3
   },
   "file_extension": ".py",
   "mimetype": "text/x-python",
   "name": "python",
   "nbconvert_exporter": "python",
   "pygments_lexer": "ipython3",
   "version": "3.11.9"
  }
 },
 "nbformat": 4,
 "nbformat_minor": 5
}
